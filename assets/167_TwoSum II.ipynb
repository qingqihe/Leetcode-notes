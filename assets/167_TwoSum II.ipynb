{
 "cells": [
  {
   "cell_type": "markdown",
   "id": "a80b8e62",
   "metadata": {},
   "source": [
    "# 167. Two Sum II\n",
    "Given a 1-indexed array of integers numbers that is already sorted in non-decreasing order, find two numbers such that they add up to a specific target number. Let these two numbers be numbers[index1] and numbers[index2] where 1 <= index1 < index2 <= numbers.length.\n",
    "\n",
    "Return the indices of the two numbers, index1 and index2, added by one as an integer array [index1, index2] of length 2.\n",
    "\n",
    "The tests are generated such that there is exactly one solution. You may not use the same element twice.\n"
   ]
  },
  {
   "cell_type": "markdown",
   "id": "e8dca7d1",
   "metadata": {},
   "source": [
    "## Example\n",
    "Input: numbers = [2,7,11,15], target = 9\n",
    "Output: [1,2]\n",
    "Explanation: The sum of 2 and 7 is 9. Therefore, index1 = 1, index2 = 2. We return [1, 2]."
   ]
  },
  {
   "cell_type": "markdown",
   "id": "0012b5ef",
   "metadata": {},
   "source": [
    "Since I have learned 1.Two sum yesterday.\n",
    "\n",
    "I know how to use dictonary to help me figure it out.\n",
    "\n",
    "Because the index starts from 1. So I just need to add 1 to the result."
   ]
  },
  {
   "cell_type": "markdown",
   "id": "70f28298",
   "metadata": {},
   "source": [
    "### Method 1 (dictonary)\n",
    "What I want to do first.\n",
    "Just like the 1.Two sum using hash table."
   ]
  },
  {
   "cell_type": "code",
   "execution_count": 5,
   "id": "67091dbd",
   "metadata": {},
   "outputs": [
    {
     "data": {
      "text/plain": [
       "[1, 2]"
      ]
     },
     "execution_count": 5,
     "metadata": {},
     "output_type": "execute_result"
    }
   ],
   "source": [
    "numbers = [2,7,9,15]\n",
    "target = 9\n",
    "\n",
    "def twoSum(numbers,target):\n",
    "    dic = {}\n",
    "    for i,n in enumerate(numbers):\n",
    "        if n in dic:\n",
    "            return[dic[n]+1, i+1]\n",
    "        dic[target - n] = i\n",
    "\n",
    "twoSum(numbers, target)"
   ]
  },
  {
   "cell_type": "markdown",
   "id": "88c4128f",
   "metadata": {},
   "source": [
    "### Method 2(Two pointer)\n",
    "I have no idea what it is.\n",
    "\n",
    "What I know now:\n",
    "two pointer is useful when there is ordered array.\n",
    "\n",
    "There are two types of two pointer. One is two sided--->middle. The other is quick and slow(which helps to find a circle)."
   ]
  },
  {
   "cell_type": "code",
   "execution_count": 8,
   "id": "2721fb2c",
   "metadata": {},
   "outputs": [
    {
     "data": {
      "text/plain": [
       "[1, 2]"
      ]
     },
     "execution_count": 8,
     "metadata": {},
     "output_type": "execute_result"
    }
   ],
   "source": [
    "def twoSum1(numbers, target):\n",
    "    l, r = 0, len(numbers)-1 # This is equal l = 0, r = len(numbers)-1\n",
    "    # And I need to know why r = len - 1. it is because index start with 0. So the fourth number's index is 3.\n",
    "    while l < r:\n",
    "        s = numbers[l] + numbers[r] # Sum of two\n",
    "        if s == target:\n",
    "            return [l+1, r+1]  # That is the result\n",
    "        # Below is how to use two pointer.\n",
    "        elif s < target:\n",
    "            l += 1  # l += 1 equals l = l+1\n",
    "        else:\n",
    "            r -= 1  # same like -=\n",
    "            # What the fuck! That is awesome.\n",
    "twoSum1(numbers,target)"
   ]
  },
  {
   "cell_type": "markdown",
   "id": "65af5714",
   "metadata": {},
   "source": [
    "### Method 3 Binary search\n",
    "Again, I have no idea what it is."
   ]
  },
  {
   "cell_type": "code",
   "execution_count": null,
   "id": "10d9db04",
   "metadata": {},
   "outputs": [],
   "source": [
    "def twoSum(numbers, target):\n",
    "    for i in range(len(numbers)):\n",
    "        l, r = i+1, len(numbers)-1 # Find the index, l = 1, r = 3\n",
    "        tmp = target - numbers[i]\n",
    "        while l <= r:\n",
    "            mid = l + (r-l)//2  # // is like floor() in R. example: 5/2 = 2.5 <---> 5//2 = 2\n",
    "            # Here is that we find the middle of the array and start binary search\n",
    "            if numbers[mid] == tmp:   # Here is the situation that the mid is exactly what we find. Then end the search\n",
    "                return [i+1, mid+1]\n",
    "            elif numbers[mid] < tmp:  # Here is that if what we find is bigger than middle\n",
    "                l = mid+1             # Then we make L become a number have 1 bigger than middle and do the binary search again.\n",
    "            else:\n",
    "                r = mid-1             # Here is the same. But just smaller than middle situation."
   ]
  },
  {
   "cell_type": "markdown",
   "id": "534591d4",
   "metadata": {},
   "source": [
    "Ok I think I get the idea.\n",
    "\n",
    "So binary search is like guess a number between 1 to 100 in real life.\n",
    "\n",
    "If the number is 12. I guess 30. Then the guy says: No! It is between 1~30.\n",
    "\n",
    "The difference is that Binary search is always \"Binary\"."
   ]
  },
  {
   "cell_type": "markdown",
   "id": "161906c2",
   "metadata": {},
   "source": [
    "#### Warning:\n",
    "It is important to know the details about binary search.\n",
    "Today I know the concept. But next time I need to figure out the detail. (<=, l<r and l<=r, etc)\n",
    "Details pages:https://www.cnblogs.com/kyoner/p/11080078.html"
   ]
  }
 ],
 "metadata": {
  "kernelspec": {
   "display_name": "Python 3",
   "language": "python",
   "name": "python3"
  },
  "language_info": {
   "codemirror_mode": {
    "name": "ipython",
    "version": 3
   },
   "file_extension": ".py",
   "mimetype": "text/x-python",
   "name": "python",
   "nbconvert_exporter": "python",
   "pygments_lexer": "ipython3",
   "version": "3.8.8"
  }
 },
 "nbformat": 4,
 "nbformat_minor": 5
}
