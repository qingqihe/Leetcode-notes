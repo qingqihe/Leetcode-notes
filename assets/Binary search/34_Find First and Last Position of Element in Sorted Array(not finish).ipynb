{
 "cells": [
  {
   "cell_type": "markdown",
   "id": "88437902",
   "metadata": {},
   "source": [
    "## 34. Find First and Last Position of Element in Sorted Array\n",
    "Given an array of integers nums sorted in non-decreasing order, find the starting and ending position of a given target value.\n",
    "\n",
    "If target is not found in the array, return [-1, -1].\n",
    "\n",
    "You must write an algorithm with O(log n) runtime complexity."
   ]
  },
  {
   "cell_type": "markdown",
   "id": "45cd6579",
   "metadata": {},
   "source": [
    "### Difference with 704.\n",
    "The intergers are repeated.\n",
    "\n",
    "Starting and ending position. How?\n",
    "\n",
    "How about this. I can find one target value. If I find nothing. I can return [-1, -1]. If I find one target value. I use its index as a boundary(left and right). Then do the binary search again.\n",
    "\n",
    "Also, always remember the interval."
   ]
  },
  {
   "cell_type": "code",
   "execution_count": 3,
   "id": "7a95d07d",
   "metadata": {},
   "outputs": [
    {
     "data": {
      "text/plain": [
       "[0, -1]"
      ]
     },
     "execution_count": 3,
     "metadata": {},
     "output_type": "execute_result"
    }
   ],
   "source": [
    "nums = [5,7,7,8,8,10]\n",
    "target = 8\n",
    "\n",
    "def searchRange(nums, target):\n",
    "    def leftborder(nums, target):\n",
    "        left, right = 0, len(nums) - 1\n",
    "        while left <= right:\n",
    "            mid = left + (right - left)//2\n",
    "            if nums[mid]>= target:\n",
    "                left = mid + 1\n",
    "            else:\n",
    "                right = mid - 1\n",
    "        return left\n",
    "    \n",
    "    def rightborder(nums, target):\n",
    "        left, right = 0, len(nums) - 1\n",
    "        while left <= right:\n",
    "            mid = left + (right - left)//2\n",
    "            if nums[mid]>= target:\n",
    "                left = mid + 1\n",
    "            else:\n",
    "                right = mid - 1\n",
    "        return right\n",
    "    \n",
    "    left = leftborder(nums, target)\n",
    "    right = rightborder(nums, target)\n",
    "    return [left, right]\n",
    "\n",
    "searchRange(nums, target)"
   ]
  },
  {
   "cell_type": "code",
   "execution_count": null,
   "id": "d82444a5",
   "metadata": {},
   "outputs": [],
   "source": []
  }
 ],
 "metadata": {
  "kernelspec": {
   "display_name": "Python 3",
   "language": "python",
   "name": "python3"
  },
  "language_info": {
   "codemirror_mode": {
    "name": "ipython",
    "version": 3
   },
   "file_extension": ".py",
   "mimetype": "text/x-python",
   "name": "python",
   "nbconvert_exporter": "python",
   "pygments_lexer": "ipython3",
   "version": "3.8.8"
  }
 },
 "nbformat": 4,
 "nbformat_minor": 5
}
