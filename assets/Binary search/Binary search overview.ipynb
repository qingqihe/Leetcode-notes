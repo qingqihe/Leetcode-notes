{
 "cells": [
  {
   "cell_type": "markdown",
   "id": "ee56e4f8",
   "metadata": {},
   "source": [
    "# Binary search"
   ]
  },
  {
   "cell_type": "markdown",
   "id": "544bcff2",
   "metadata": {},
   "source": [
    "## The basic idea of Binary search:\n",
    "Prerequisite: sorted array, unique integers.\n",
    "\n",
    "The idea is easy. It is like cutting the array a half each iteration.\n",
    "\n",
    "Similar to guessing the number between 1 and 100.\n",
    "The most effective way is to choose 50 and see the number is smaller than 50 or bigger than 50.\n",
    "\n",
    "When we use brute way to solve the problem, it would have O(N) complexity. But if we use binary search, it would only have O(log N) complexity, which is better."
   ]
  },
  {
   "cell_type": "markdown",
   "id": "1419bc34",
   "metadata": {},
   "source": [
    "## Example"
   ]
  },
  {
   "cell_type": "markdown",
   "id": "fb11fcf6",
   "metadata": {},
   "source": [
    "### 704. Binary search\n",
    "Given an array of integers nums which is sorted in ascending order, and an integer target, write a function to search target in nums. If target exists, then return its index. Otherwise, return -1.\n",
    "\n",
    "You must write an algorithm with O(log n) runtime complexity."
   ]
  },
  {
   "cell_type": "code",
   "execution_count": 3,
   "id": "f9d83667",
   "metadata": {},
   "outputs": [
    {
     "data": {
      "text/plain": [
       "4"
      ]
     },
     "execution_count": 3,
     "metadata": {},
     "output_type": "execute_result"
    }
   ],
   "source": [
    "nums = [-1,0,3,5,9,12]\n",
    "target = 9\n",
    "\n",
    "def binarySearch(nums, target):\n",
    "    left, right = 0, len(nums)-1 # set the boundary. Here is the index\n",
    "    while left <= right:\n",
    "        mid = left + (right - left)//2 # Avoid interger overflow\n",
    "        if nums[mid] == target:\n",
    "            return mid    \n",
    "        elif nums[mid] < target:  # so target is on the right half, then change the left boundary\n",
    "            left = mid + 1\n",
    "        else:\n",
    "            right = mid - 1        # so target is on the left half, then change the right boundary\n",
    "    return -1\n",
    "\n",
    "binarySearch(nums, target)"
   ]
  },
  {
   "cell_type": "markdown",
   "id": "9ef9aaf7",
   "metadata": {},
   "source": [
    "## The tricky point of binary search\n",
    "It is the boundary problem.\n",
    "\n",
    "There are two ways to set the boundary. For me right now, in order to avoiding misunderstanding, I would only use [a, b] rather than [a, b)\n",
    "\n",
    "If I use [a, b] boundary. It would be  left <= right, left = mid +1 and right = mid - 1.\n"
   ]
  }
 ],
 "metadata": {
  "kernelspec": {
   "display_name": "Python 3",
   "language": "python",
   "name": "python3"
  },
  "language_info": {
   "codemirror_mode": {
    "name": "ipython",
    "version": 3
   },
   "file_extension": ".py",
   "mimetype": "text/x-python",
   "name": "python",
   "nbconvert_exporter": "python",
   "pygments_lexer": "ipython3",
   "version": "3.8.8"
  }
 },
 "nbformat": 4,
 "nbformat_minor": 5
}
