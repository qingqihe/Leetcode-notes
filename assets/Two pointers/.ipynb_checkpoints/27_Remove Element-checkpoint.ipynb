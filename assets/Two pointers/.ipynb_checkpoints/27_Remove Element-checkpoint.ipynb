{
 "cells": [
  {
   "cell_type": "markdown",
   "id": "1242805f",
   "metadata": {},
   "source": [
    "## 27. Remove Element\n",
    "\n",
    "Given an integer array nums and an integer val, remove all occurrences of val in nums in-place. The relative order of the elements may be changed.\n",
    "\n",
    "Since it is impossible to change the length of the array in some languages, you must instead have the result be placed in the first part of the array nums. More formally, if there are k elements after removing the duplicates, then the first k elements of nums should hold the final result. It does not matter what you leave beyond the first k elements.\n",
    "\n",
    "Return k after placing the final result in the first k slots of nums.\n",
    "\n",
    "Do not allocate extra space for another array. You must do this by modifying the input array in-place with O(1) extra memory."
   ]
  },
  {
   "cell_type": "code",
   "execution_count": 2,
   "id": "aec9e976",
   "metadata": {},
   "outputs": [
    {
     "data": {
      "text/plain": [
       "2"
      ]
     },
     "execution_count": 2,
     "metadata": {},
     "output_type": "execute_result"
    }
   ],
   "source": [
    "nums = [3,2,2,3]\n",
    "val = 3\n",
    "\n",
    "def removeElement(nums, val):\n",
    "    fast = slow = 0\n",
    "    while fast < len(nums):\n",
    "        if nums[fast] != val :\n",
    "            nums[slow] = nums[fast]\n",
    "            slow += 1\n",
    "        \n",
    "        fast += 1\n",
    "    \n",
    "    return slow\n",
    "\n",
    "removeElement(nums,val)"
   ]
  },
  {
   "cell_type": "markdown",
   "id": "a14be23d",
   "metadata": {},
   "source": [
    "I think it is easy to understand.\n",
    "\n",
    "This should be the example of the fast-slow Two Pointers."
   ]
  }
 ],
 "metadata": {
  "kernelspec": {
   "display_name": "Python 3",
   "language": "python",
   "name": "python3"
  },
  "language_info": {
   "codemirror_mode": {
    "name": "ipython",
    "version": 3
   },
   "file_extension": ".py",
   "mimetype": "text/x-python",
   "name": "python",
   "nbconvert_exporter": "python",
   "pygments_lexer": "ipython3",
   "version": "3.8.8"
  }
 },
 "nbformat": 4,
 "nbformat_minor": 5
}
