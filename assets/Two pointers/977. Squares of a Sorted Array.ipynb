{
 "cells": [
  {
   "cell_type": "markdown",
   "id": "30eafda3",
   "metadata": {},
   "source": [
    "## 977. Squares of a Sorted Array\n",
    "\n",
    "Given an integer array nums sorted in non-decreasing order, return an array of the squares of each number sorted in non-decreasing order.\n",
    "\n",
    "Input: nums = [-4,-1,0,3,10]<br>\n",
    "Output: [0,1,9,16,100]<br>\n",
    "Explanation: After squaring, the array becomes [16,1,0,9,100].<br>\n",
    "After sorting, it becomes [0,1,9,16,100]."
   ]
  },
  {
   "cell_type": "markdown",
   "id": "7eb87212",
   "metadata": {},
   "source": [
    "Obviously, we can square all the numbers and sort it."
   ]
  },
  {
   "cell_type": "code",
   "execution_count": 17,
   "id": "2b13f474",
   "metadata": {},
   "outputs": [
    {
     "data": {
      "text/plain": [
       "[0, 1, 9, 16, 100]"
      ]
     },
     "execution_count": 17,
     "metadata": {},
     "output_type": "execute_result"
    }
   ],
   "source": [
    "nums = [-4,-1,0,3,10]\n",
    "\n",
    "def sortedSquares(nums):\n",
    "    for i in range(len(nums)):\n",
    "        nums[i] = nums[i] * nums[i]\n",
    "    nums.sort()\n",
    "    return nums\n",
    "\n",
    "sortedSquares(nums)"
   ]
  },
  {
   "cell_type": "markdown",
   "id": "f6735e1e",
   "metadata": {},
   "source": [
    "### Leetcode solution of sort"
   ]
  },
  {
   "cell_type": "code",
   "execution_count": 19,
   "id": "c5a66203",
   "metadata": {},
   "outputs": [
    {
     "data": {
      "text/plain": [
       "[0, 1, 9, 16, 100]"
      ]
     },
     "execution_count": 19,
     "metadata": {},
     "output_type": "execute_result"
    }
   ],
   "source": [
    "nums = [-4,-1,0,3,10]\n",
    "\n",
    "def sortedSquares2(nums):\n",
    "    return sorted(x*x for x in nums)\n",
    "\n",
    "sortedSquares2(nums)"
   ]
  },
  {
   "cell_type": "markdown",
   "id": "d1217ee8",
   "metadata": {},
   "source": [
    "What is the difference between sort() and sorted()?"
   ]
  },
  {
   "cell_type": "markdown",
   "id": "e23ff74c",
   "metadata": {},
   "source": [
    "### Method 2 : Two pointers"
   ]
  },
  {
   "cell_type": "code",
   "execution_count": 22,
   "id": "9221db49",
   "metadata": {},
   "outputs": [
    {
     "data": {
      "text/plain": [
       "[0, 1, 9, 16, 100]"
      ]
     },
     "execution_count": 22,
     "metadata": {},
     "output_type": "execute_result"
    }
   ],
   "source": [
    "nums = [-4,-1,0,3,10]\n",
    "\n",
    "def sortedSquares3(nums):\n",
    "    n = len(nums)\n",
    "    answer = [0]* n\n",
    "    left = 0\n",
    "    right = n - 1  \n",
    "    point = n - 1\n",
    "    \n",
    "    while left < right:\n",
    "        left_val = nums[left] ** 2\n",
    "        right_val = nums[right] ** 2\n",
    "        if left_val > right_val:\n",
    "            answer[point] = left_val\n",
    "            left += 1\n",
    "        else:\n",
    "            answer[point] = right_val\n",
    "            right -= 1\n",
    "        point -= 1\n",
    "    return answer\n",
    "\n",
    "sortedSquares3(nums)"
   ]
  },
  {
   "cell_type": "markdown",
   "id": "81ee2d77",
   "metadata": {},
   "source": [
    "The idea of Two pointers is that we set the left and right borders. We compare the square of the value. And all pointers will reach the middle. "
   ]
  }
 ],
 "metadata": {
  "kernelspec": {
   "display_name": "Python 3",
   "language": "python",
   "name": "python3"
  },
  "language_info": {
   "codemirror_mode": {
    "name": "ipython",
    "version": 3
   },
   "file_extension": ".py",
   "mimetype": "text/x-python",
   "name": "python",
   "nbconvert_exporter": "python",
   "pygments_lexer": "ipython3",
   "version": "3.8.8"
  }
 },
 "nbformat": 4,
 "nbformat_minor": 5
}
