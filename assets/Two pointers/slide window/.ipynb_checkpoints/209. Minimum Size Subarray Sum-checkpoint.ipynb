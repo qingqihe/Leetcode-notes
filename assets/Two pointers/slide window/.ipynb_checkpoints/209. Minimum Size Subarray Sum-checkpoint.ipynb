{
 "cells": [
  {
   "cell_type": "markdown",
   "id": "2e4aab92",
   "metadata": {},
   "source": [
    "## 209. Minimum Size Subarray Sum\n",
    "\n",
    "Given an array of positive integers nums and a positive integer target, return the minimal length of a contiguous subarray [numsl, numsl+1, ..., numsr-1, numsr] of which the sum is greater than or equal to target. If there is no such subarray, return 0 instead.\n",
    "\n",
    "Input: target = 7, nums = [2,3,1,2,4,3]<br>\n",
    "Output: 2<br>\n",
    "Explanation: The subarray [4,3] has the minimal length under the problem constraint."
   ]
  },
  {
   "cell_type": "markdown",
   "id": "8c032492",
   "metadata": {},
   "source": [
    "### My idea(wrong):\n",
    "Maybe we can find the biggest number in the array each time and compare the number with the target?<br>\n",
    "If the number is smaller than target, we find a second biggest number and sum it.<br>\n",
    "Then compare with the target again."
   ]
  },
  {
   "cell_type": "code",
   "execution_count": 40,
   "id": "f6362b83",
   "metadata": {},
   "outputs": [
    {
     "data": {
      "text/plain": [
       "2"
      ]
     },
     "execution_count": 40,
     "metadata": {},
     "output_type": "execute_result"
    }
   ],
   "source": [
    "target = 7\n",
    "nums = [2,3,1,2,4,3]\n",
    "\n",
    "def minSubArrayLen(nums, target):\n",
    "    number = max(nums) \n",
    "    count = 1\n",
    "    while number < target:\n",
    "        nums.pop(nums.index(max(nums)))\n",
    "        number += max(nums)\n",
    "        count += 1\n",
    "        \n",
    "    return count\n",
    "\n",
    "minSubArrayLen(nums, target)"
   ]
  },
  {
   "cell_type": "markdown",
   "id": "e659ddf3",
   "metadata": {},
   "source": [
    "The solution above is wrong in some situation. Because I didn't consider a situation that all sum may still smaller than target. So the while loop will finially reach a end and give us an error.<br>\n",
    "Oh god. I totally wrong. The problem says that it should be a contiguous subarray.<br>\n",
    "My idea isn't contiguous subarray!!!!!"
   ]
  },
  {
   "cell_type": "markdown",
   "id": "f8720a20",
   "metadata": {},
   "source": [
    "### Method: slide window\n",
    "\n",
    "The idea of slide window is just like two pointers.<br>\n",
    "We set two pointers, which are start and end.<br>\n",
    "The window would be between start and end. Start and end will start at the beginning of the array. Each time we calculate the window. If the window doesn't satisfy the requirement(in this problem window smaller than 7), we move right to the end.<br>\n",
    "If the window satisfies the requirement(window bigger than 7), we move right to the start.\n",
    "\n",
    "So basically, when you see something like contiguous in an array, you should start to think of slide window."
   ]
  },
  {
   "cell_type": "code",
   "execution_count": 4,
   "id": "b0b83154",
   "metadata": {},
   "outputs": [
    {
     "data": {
      "text/plain": [
       "2"
      ]
     },
     "execution_count": 4,
     "metadata": {},
     "output_type": "execute_result"
    }
   ],
   "source": [
    "target = 7\n",
    "nums = [2,3,1,2,4,3]\n",
    "\n",
    "def minSubArrayLen(target, nums):\n",
    "    # set the pointers, window and length(answer)\n",
    "    n = len(nums)\n",
    "    start = end = 0\n",
    "    answer = n + 1\n",
    "    window = 0     \n",
    "    \n",
    "    while end < n:   # the situation that window are smaller than target\n",
    "        window += nums[end]\n",
    "        while window >= target: # the situation that window are bigger than or equal to target\n",
    "            answer = min(answer, end - start + 1)  # I am not truly understand this part\n",
    "            # I think it is like find the real time length\n",
    "            window -= nums[start]  # we cut the start \n",
    "            start += 1\n",
    "        \n",
    "        end += 1\n",
    "    \n",
    "    return 0 if answer == n + 1 else answer\n",
    "\n",
    "minSubArrayLen(target, nums)"
   ]
  },
  {
   "cell_type": "markdown",
   "id": "21694d15",
   "metadata": {},
   "source": [
    "How about brute force?"
   ]
  },
  {
   "cell_type": "code",
   "execution_count": null,
   "id": "fc78aa45",
   "metadata": {},
   "outputs": [],
   "source": [
    "def minSubArrayLen2(target, nums):"
   ]
  }
 ],
 "metadata": {
  "kernelspec": {
   "display_name": "Python 3",
   "language": "python",
   "name": "python3"
  },
  "language_info": {
   "codemirror_mode": {
    "name": "ipython",
    "version": 3
   },
   "file_extension": ".py",
   "mimetype": "text/x-python",
   "name": "python",
   "nbconvert_exporter": "python",
   "pygments_lexer": "ipython3",
   "version": "3.8.8"
  }
 },
 "nbformat": 4,
 "nbformat_minor": 5
}
