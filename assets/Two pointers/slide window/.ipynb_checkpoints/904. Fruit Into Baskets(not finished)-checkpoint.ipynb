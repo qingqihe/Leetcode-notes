{
 "cells": [
  {
   "cell_type": "markdown",
   "id": "53caf8c2",
   "metadata": {},
   "source": [
    "## 904. Fruit Into Baskets\n",
    "\n",
    "You are visiting a farm that has a single row of fruit trees arranged from left to right. The trees are represented by an integer array fruits where fruits[i] is the type of fruit the ith tree produces.\n",
    "\n",
    "You want to collect as much fruit as possible. However, the owner has some strict rules that you must follow:\n",
    "\n",
    "You only have two baskets, and each basket can only hold a single type of fruit. There is no limit on the amount of fruit each basket can hold.<br>\n",
    "Starting from any tree of your choice, you must pick exactly one fruit from every tree (including the start tree) while moving to the right. The picked fruits must fit in one of your baskets.<br>\n",
    "Once you reach a tree with fruit that cannot fit in your baskets, you must stop.<br>\n",
    "Given the integer array fruits, return the maximum number of fruits you can pick.<br>"
   ]
  },
  {
   "cell_type": "markdown",
   "id": "d778ab04",
   "metadata": {},
   "source": [
    "Input: fruits = [1,2,1]<br>\n",
    "Output: 3<br>\n",
    "Explanation: We can pick from all 3 trees."
   ]
  },
  {
   "cell_type": "markdown",
   "id": "6455a6f9",
   "metadata": {},
   "source": [
    "### My idea\n",
    "\n",
    "So we can use slide window here.<br>\n",
    "Because we can start from any trees, so we must use for or while loop of start pointer to show all the posibility.<br>\n",
    "We have two baskets, so the window would be stopped when the tpye of fruit bigger than 3.<br>\n",
    "And the end will stop because of the window.<br>\n",
    "\n",
    "Tricky point: <br>\n",
    "I need to count the numbers of fruit.<br>\n",
    "How can I show the type of fruit.\n",
    "\n",
    "Let's try"
   ]
  },
  {
   "cell_type": "code",
   "execution_count": 26,
   "id": "041c2ada",
   "metadata": {},
   "outputs": [
    {
     "data": {
      "text/plain": [
       "4"
      ]
     },
     "execution_count": 26,
     "metadata": {},
     "output_type": "execute_result"
    }
   ],
   "source": [
    "fruits = [1,2,3,2,2]\n",
    "\n",
    "def totalFruit(fruits):\n",
    "    n = len(fruits)\n",
    "    start = 0\n",
    "    count_fruit = 0\n",
    "    type_fruit = 0\n",
    "    \n",
    "    while start <= n + 1:\n",
    "        end = n + 1\n",
    "        type_fruit = len(set(fruits[start:end]))\n",
    "        while type_fruit > 2:\n",
    "            end -= 1\n",
    "            type_fruit = len(set(fruits[start:end]))\n",
    "        count_fruit = max(count_fruit, len(fruits[start:end]))\n",
    "            \n",
    "        start += 1\n",
    "    \n",
    "    return count_fruit\n",
    "\n",
    "totalFruit(fruits)"
   ]
  },
  {
   "cell_type": "markdown",
   "id": "2cc59ee7",
   "metadata": {},
   "source": [
    "Oh my God. This is my first time I think I do the right code.<br>\n",
    "Though it is Time exceed.<br>\n",
    "Obviously the time complexity is O(N*3)"
   ]
  },
  {
   "cell_type": "code",
   "execution_count": null,
   "id": "23c6db23",
   "metadata": {},
   "outputs": [],
   "source": []
  }
 ],
 "metadata": {
  "kernelspec": {
   "display_name": "Python 3",
   "language": "python",
   "name": "python3"
  },
  "language_info": {
   "codemirror_mode": {
    "name": "ipython",
    "version": 3
   },
   "file_extension": ".py",
   "mimetype": "text/x-python",
   "name": "python",
   "nbconvert_exporter": "python",
   "pygments_lexer": "ipython3",
   "version": "3.8.8"
  }
 },
 "nbformat": 4,
 "nbformat_minor": 5
}
